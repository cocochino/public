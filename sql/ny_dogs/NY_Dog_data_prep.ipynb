{
 "cells": [
  {
   "cell_type": "markdown",
   "metadata": {},
   "source": [
    "# New York City Dog Data: Data preparation\n",
    "\n",
    "## Table of Contents\n",
    "<ul>\n",
    "<li><a href=\"#intro\">Introduction</a></li>\n",
    "<li><a href='#datacleanup'>Data Cleanup</a></li>\n",
    "<li><a href='#import'>Importing into SQL</a></li>\n",
    "</ul>"
   ]
  },
  {
   "cell_type": "markdown",
   "metadata": {},
   "source": [
    "<a id='intro'></a>\n",
    "## Introduction\n",
    "\n",
    "This project demonstrate using Python (Pandas) to clean up data before importing to MySQL.\n",
    "Later half will walk through SQL to invesitgate data.\n",
    "\n",
    "### Data Source\n",
    "The original data, NY_Dogs _ WNYC.csv, can be found <a href='https://fusiontables.google.com/data?docid=1pKcxc8kzJbBVzLu_kgzoAMzqYhZyUhtScXjB0BQ#rows:id=1'>here - \"Dogs of NYC | WNYC\"</a>. It is from NYC Dept of Health and Mental Hygiene, 2013.\n",
    "\n",
    "I found the link from \"<a href = 'https://www.kaggle.com/new-york-city/nyc-dog-names'>NYC Dog Names</a>\"  data set on <a href='https://www.kaggle.com/'>Kaggle</a>\n",
    "\n",
    "### Tools\n",
    "<ul>\n",
    "    <li>MySQL \n",
    "    <li>HeidiSQL\n",
    "    <li>Python\n",
    "    <li>Pandas\n",
    "</ul>\n"
   ]
  },
  {
   "cell_type": "markdown",
   "metadata": {},
   "source": [
    "<a id='datacleanup'></a>\n",
    "## Data Cleanup\n",
    "\n",
    "I used Pandas dataframe to quickly scan data and break the CSV files per each borough.\n",
    "\n",
    "The original data has 11 columns and 81542 rows. Distribution is as below.\n",
    "\n",
    "<ul>\n",
    "<li>Bronx             9280</li>\n",
    "<li>Brooklyn         19324</li>\n",
    "<li>Manhattan        26015</li>\n",
    "<li>Queens           17489</li>\n",
    "<li>Staten Island     9378</li>\n",
    "</ul>\n"
   ]
  },
  {
   "cell_type": "code",
   "execution_count": 1,
   "metadata": {},
   "outputs": [],
   "source": [
    "# Import pandas library\n",
    "import pandas as pd"
   ]
  },
  {
   "cell_type": "code",
   "execution_count": 2,
   "metadata": {},
   "outputs": [],
   "source": [
    "# Read in the original CSV file\n",
    "df = pd.read_csv('CSV_files\\\\NY_Dogs_WNYC.csv')"
   ]
  },
  {
   "cell_type": "code",
   "execution_count": 3,
   "metadata": {},
   "outputs": [
    {
     "data": {
      "text/html": [
       "<div>\n",
       "<style scoped>\n",
       "    .dataframe tbody tr th:only-of-type {\n",
       "        vertical-align: middle;\n",
       "    }\n",
       "\n",
       "    .dataframe tbody tr th {\n",
       "        vertical-align: top;\n",
       "    }\n",
       "\n",
       "    .dataframe thead th {\n",
       "        text-align: right;\n",
       "    }\n",
       "</style>\n",
       "<table border=\"1\" class=\"dataframe\">\n",
       "  <thead>\n",
       "    <tr style=\"text-align: right;\">\n",
       "      <th></th>\n",
       "      <th>dog_name</th>\n",
       "      <th>gender</th>\n",
       "      <th>breed</th>\n",
       "      <th>birth</th>\n",
       "      <th>dominant_color</th>\n",
       "      <th>secondary_color</th>\n",
       "      <th>third_color</th>\n",
       "      <th>spayed_or_neutered</th>\n",
       "      <th>guard_or_trained</th>\n",
       "      <th>borough</th>\n",
       "      <th>zip_code</th>\n",
       "    </tr>\n",
       "  </thead>\n",
       "  <tbody>\n",
       "    <tr>\n",
       "      <th>0</th>\n",
       "      <td>Buddy</td>\n",
       "      <td>M</td>\n",
       "      <td>Afghan Hound</td>\n",
       "      <td>Jan-00</td>\n",
       "      <td>BRINDLE</td>\n",
       "      <td>BLACK</td>\n",
       "      <td>NaN</td>\n",
       "      <td>Yes</td>\n",
       "      <td>No</td>\n",
       "      <td>Manhattan</td>\n",
       "      <td>10003</td>\n",
       "    </tr>\n",
       "    <tr>\n",
       "      <th>1</th>\n",
       "      <td>Nicole</td>\n",
       "      <td>F</td>\n",
       "      <td>Afghan Hound</td>\n",
       "      <td>Jul-00</td>\n",
       "      <td>BLACK</td>\n",
       "      <td>NaN</td>\n",
       "      <td>NaN</td>\n",
       "      <td>Yes</td>\n",
       "      <td>No</td>\n",
       "      <td>Manhattan</td>\n",
       "      <td>10021</td>\n",
       "    </tr>\n",
       "    <tr>\n",
       "      <th>2</th>\n",
       "      <td>Abby</td>\n",
       "      <td>F</td>\n",
       "      <td>Afghan Hound</td>\n",
       "      <td>Nov-00</td>\n",
       "      <td>BLACK</td>\n",
       "      <td>TAN</td>\n",
       "      <td>NaN</td>\n",
       "      <td>Yes</td>\n",
       "      <td>No</td>\n",
       "      <td>Manhattan</td>\n",
       "      <td>10034</td>\n",
       "    </tr>\n",
       "    <tr>\n",
       "      <th>3</th>\n",
       "      <td>Chloe</td>\n",
       "      <td>F</td>\n",
       "      <td>Afghan Hound</td>\n",
       "      <td>Jan-02</td>\n",
       "      <td>WHITE</td>\n",
       "      <td>BLOND</td>\n",
       "      <td>NaN</td>\n",
       "      <td>Yes</td>\n",
       "      <td>No</td>\n",
       "      <td>Manhattan</td>\n",
       "      <td>10024</td>\n",
       "    </tr>\n",
       "    <tr>\n",
       "      <th>4</th>\n",
       "      <td>Jazzle</td>\n",
       "      <td>F</td>\n",
       "      <td>Afghan Hound</td>\n",
       "      <td>Oct-02</td>\n",
       "      <td>BLOND</td>\n",
       "      <td>WHITE</td>\n",
       "      <td>BLACK</td>\n",
       "      <td>Yes</td>\n",
       "      <td>No</td>\n",
       "      <td>Manhattan</td>\n",
       "      <td>10022</td>\n",
       "    </tr>\n",
       "  </tbody>\n",
       "</table>\n",
       "</div>"
      ],
      "text/plain": [
       "  dog_name gender         breed   birth dominant_color secondary_color  \\\n",
       "0    Buddy      M  Afghan Hound  Jan-00        BRINDLE           BLACK   \n",
       "1   Nicole      F  Afghan Hound  Jul-00          BLACK             NaN   \n",
       "2     Abby      F  Afghan Hound  Nov-00          BLACK             TAN   \n",
       "3    Chloe      F  Afghan Hound  Jan-02          WHITE           BLOND   \n",
       "4   Jazzle      F  Afghan Hound  Oct-02          BLOND           WHITE   \n",
       "\n",
       "  third_color spayed_or_neutered guard_or_trained    borough  zip_code  \n",
       "0         NaN                Yes               No  Manhattan     10003  \n",
       "1         NaN                Yes               No  Manhattan     10021  \n",
       "2         NaN                Yes               No  Manhattan     10034  \n",
       "3         NaN                Yes               No  Manhattan     10024  \n",
       "4       BLACK                Yes               No  Manhattan     10022  "
      ]
     },
     "execution_count": 3,
     "metadata": {},
     "output_type": "execute_result"
    }
   ],
   "source": [
    "# Confirm that the data has been loaded.\n",
    "df.head(5)"
   ]
  },
  {
   "cell_type": "code",
   "execution_count": 4,
   "metadata": {},
   "outputs": [
    {
     "data": {
      "text/plain": [
       "(81542, 11)"
      ]
     },
     "execution_count": 4,
     "metadata": {},
     "output_type": "execute_result"
    }
   ],
   "source": [
    "# Get row # and column #\n",
    "df.shape"
   ]
  },
  {
   "cell_type": "code",
   "execution_count": 5,
   "metadata": {},
   "outputs": [
    {
     "name": "stdout",
     "output_type": "stream",
     "text": [
      "<class 'pandas.core.frame.DataFrame'>\n",
      "RangeIndex: 81542 entries, 0 to 81541\n",
      "Data columns (total 11 columns):\n",
      "dog_name              77517 non-null object\n",
      "gender                81480 non-null object\n",
      "breed                 81542 non-null object\n",
      "birth                 81542 non-null object\n",
      "dominant_color        80771 non-null object\n",
      "secondary_color       56014 non-null object\n",
      "third_color           16621 non-null object\n",
      "spayed_or_neutered    81542 non-null object\n",
      "guard_or_trained      81542 non-null object\n",
      "borough               81542 non-null object\n",
      "zip_code              81542 non-null int64\n",
      "dtypes: int64(1), object(10)\n",
      "memory usage: 6.8+ MB\n"
     ]
    }
   ],
   "source": [
    "# There are empty data in dog name, gender, colors...\n",
    "df.info()"
   ]
  },
  {
   "cell_type": "code",
   "execution_count": 6,
   "metadata": {},
   "outputs": [
    {
     "data": {
      "text/plain": [
       "dog_name               4025\n",
       "gender                   62\n",
       "breed                     0\n",
       "birth                     0\n",
       "dominant_color          771\n",
       "secondary_color       25528\n",
       "third_color           64921\n",
       "spayed_or_neutered        0\n",
       "guard_or_trained          0\n",
       "borough                   0\n",
       "zip_code                  0\n",
       "dtype: int64"
      ]
     },
     "execution_count": 6,
     "metadata": {},
     "output_type": "execute_result"
    }
   ],
   "source": [
    "# A lot of dog names are null...\n",
    "df.isnull().sum()"
   ]
  },
  {
   "cell_type": "code",
   "execution_count": 7,
   "metadata": {},
   "outputs": [],
   "source": [
    "# Fill in only dog_name column with 'ZZZZZ' \n",
    "df.fillna(value={'dog_name':'ZZZZZ'}, inplace=True)"
   ]
  },
  {
   "cell_type": "code",
   "execution_count": 9,
   "metadata": {},
   "outputs": [
    {
     "data": {
      "text/plain": [
       "dog_name                  0\n",
       "gender                   62\n",
       "breed                     0\n",
       "birth                     0\n",
       "dominant_color          771\n",
       "secondary_color       25528\n",
       "third_color           64921\n",
       "spayed_or_neutered        0\n",
       "guard_or_trained          0\n",
       "borough                   0\n",
       "zip_code                  0\n",
       "dtype: int64"
      ]
     },
     "execution_count": 9,
     "metadata": {},
     "output_type": "execute_result"
    }
   ],
   "source": [
    "# No more nulls\n",
    "df.isnull().sum()"
   ]
  },
  {
   "cell_type": "code",
   "execution_count": 10,
   "metadata": {},
   "outputs": [
    {
     "name": "stdout",
     "output_type": "stream",
     "text": [
      "56\n"
     ]
    }
   ],
   "source": [
    "# There are duplicates...\n",
    "print(sum(df.duplicated()))"
   ]
  },
  {
   "cell_type": "code",
   "execution_count": 11,
   "metadata": {},
   "outputs": [],
   "source": [
    "# Drop duplicates\n",
    "df.drop_duplicates(inplace=True)"
   ]
  },
  {
   "cell_type": "code",
   "execution_count": 13,
   "metadata": {},
   "outputs": [
    {
     "name": "stdout",
     "output_type": "stream",
     "text": [
      "dog_name              13803\n",
      "gender                    2\n",
      "breed                   138\n",
      "birth                   267\n",
      "dominant_color           19\n",
      "secondary_color          19\n",
      "third_color              19\n",
      "spayed_or_neutered        2\n",
      "guard_or_trained          2\n",
      "borough                   5\n",
      "zip_code                225\n",
      "dtype: int64\n"
     ]
    }
   ],
   "source": [
    "print(df.nunique())"
   ]
  },
  {
   "cell_type": "code",
   "execution_count": 17,
   "metadata": {
    "scrolled": true
   },
   "outputs": [
    {
     "data": {
      "text/plain": [
       "array(['Manhattan', 'Bronx', 'Queens', 'Staten Island', 'Brooklyn'],\n",
       "      dtype=object)"
      ]
     },
     "execution_count": 17,
     "metadata": {},
     "output_type": "execute_result"
    }
   ],
   "source": [
    "# Check borough names\n",
    "df['borough'].unique()"
   ]
  },
  {
   "cell_type": "code",
   "execution_count": 27,
   "metadata": {},
   "outputs": [
    {
     "data": {
      "text/plain": [
       "borough\n",
       "Bronx             9280\n",
       "Brooklyn         19324\n",
       "Manhattan        26015\n",
       "Queens           17489\n",
       "Staten Island     9378\n",
       "Name: dog_name, dtype: int64"
      ]
     },
     "execution_count": 27,
     "metadata": {},
     "output_type": "execute_result"
    }
   ],
   "source": [
    "# Each borough's count\n",
    "df.groupby('borough').count()['dog_name']"
   ]
  },
  {
   "cell_type": "code",
   "execution_count": 16,
   "metadata": {},
   "outputs": [
    {
     "data": {
      "text/plain": [
       "\"\\ndf_brooklyn.to_csv('CSV_files\\\\NY_Dogs_brooklyn.csv')\\n\""
      ]
     },
     "execution_count": 16,
     "metadata": {},
     "output_type": "execute_result"
    }
   ],
   "source": [
    "# Save each borough's file into CSV\n",
    "# Do not use index.\n",
    "df.to_csv('CSV_files\\\\NY_Dogs_cleaned.csv', index=False)\n"
   ]
  },
  {
   "cell_type": "markdown",
   "metadata": {},
   "source": [
    "<a id='import'></a>\n",
    "## Import into MySQL\n",
    "\n",
    "I used GUI tool <a href='https://www.heidisql.com/'>HeidiSQL</a>.\n",
    "\n",
    "I learned about HeidiSQL from this article: https://stackoverflow.com/questions/3635166/how-to-import-csv-file-to-mysql-table\n",
    "\n",
    "Sanity Check - \n",
    "\n",
    "\n",
    ">  SELECT COUNT(dog_name) FROM ny_dogs where borough = 'Manhattan';\n",
    ">  ->> 26015\n",
    "\n",
    "Looks good."
   ]
  }
 ],
 "metadata": {
  "kernelspec": {
   "display_name": "Python [conda env:Anaconda3]",
   "language": "python",
   "name": "conda-env-Anaconda3-py"
  },
  "language_info": {
   "codemirror_mode": {
    "name": "ipython",
    "version": 3
   },
   "file_extension": ".py",
   "mimetype": "text/x-python",
   "name": "python",
   "nbconvert_exporter": "python",
   "pygments_lexer": "ipython3",
   "version": "3.6.5"
  }
 },
 "nbformat": 4,
 "nbformat_minor": 2
}
